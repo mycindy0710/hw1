{
 "cells": [
  {
   "cell_type": "code",
   "execution_count": 1,
   "id": "1523c4f2",
   "metadata": {},
   "outputs": [],
   "source": [
    "import numpy as np"
   ]
  },
  {
   "cell_type": "code",
   "execution_count": 2,
   "id": "cdedbf25",
   "metadata": {},
   "outputs": [
    {
     "name": "stdout",
     "output_type": "stream",
     "text": [
      "Lovely Loveseat. Tufted polyester blend on wood. 32 inches high x 40 inches wide x 30 inches deep. Red or white.\n"
     ]
    }
   ],
   "source": [
    "lovely_loveseat_description='Lovely Loveseat. Tufted polyester blend on wood. 32 inches high x 40 inches wide x 30 inches deep. Red or white.'\n",
    "print(lovely_loveseat_description)"
   ]
  },
  {
   "cell_type": "code",
   "execution_count": 3,
   "id": "a34bda82",
   "metadata": {},
   "outputs": [],
   "source": [
    "lovely_loveseat_price = 254.00"
   ]
  },
  {
   "cell_type": "code",
   "execution_count": 4,
   "id": "f9dd2406",
   "metadata": {},
   "outputs": [],
   "source": [
    "stylish_settee_description = \"Stylish Settee. Faux leather on birch. 29.50 inches high x 54.75 inches wide x 28 inches deep. Black.\""
   ]
  },
  {
   "cell_type": "code",
   "execution_count": 5,
   "id": "01a62d33",
   "metadata": {},
   "outputs": [],
   "source": [
    "stylish_settee_price = 180.50"
   ]
  },
  {
   "cell_type": "code",
   "execution_count": 6,
   "id": "7373d247",
   "metadata": {},
   "outputs": [],
   "source": [
    "luxurious_lamp_description='Luxurious Lamp. Glass and iron. 36 inches tall. Brown with cream shade.'"
   ]
  },
  {
   "cell_type": "code",
   "execution_count": 7,
   "id": "1f379620",
   "metadata": {},
   "outputs": [
    {
     "name": "stdout",
     "output_type": "stream",
     "text": [
      "Customer One Items:Lovely Loveseat. Tufted polyester blend on wood. 32 inches high x 40 inches wide x 30 inches deep. Red or white.Luxurious Lamp. Glass and iron. 36 inches tall. Brown with cream shade.\n"
     ]
    }
   ],
   "source": [
    "luxurious_lamp_price=52.15\n",
    "sales_tax=0.088\n",
    "customer_one_total=0\n",
    "customer_one_itemization='Customer One Items:'+lovely_loveseat_description+luxurious_lamp_description\n",
    "print(customer_one_itemization)"
   ]
  },
  {
   "cell_type": "code",
   "execution_count": 8,
   "id": "0899586b",
   "metadata": {},
   "outputs": [
    {
     "name": "stdout",
     "output_type": "stream",
     "text": [
      "333.09119999999996\n"
     ]
    }
   ],
   "source": [
    "customer_one_tax=lovely_loveseat_price+luxurious_lamp_price\n",
    "customer_one_total=customer_one_tax*sales_tax\n",
    "sum=customer_one_tax+customer_one_total\n",
    "print(sum)"
   ]
  },
  {
   "cell_type": "code",
   "execution_count": null,
   "id": "89d22bbf",
   "metadata": {},
   "outputs": [],
   "source": []
  },
  {
   "cell_type": "code",
   "execution_count": null,
   "id": "d8dc1eea",
   "metadata": {},
   "outputs": [],
   "source": []
  },
  {
   "cell_type": "code",
   "execution_count": null,
   "id": "1c596140",
   "metadata": {},
   "outputs": [],
   "source": []
  },
  {
   "cell_type": "code",
   "execution_count": null,
   "id": "cfbb7ea8",
   "metadata": {},
   "outputs": [],
   "source": []
  },
  {
   "cell_type": "code",
   "execution_count": null,
   "id": "e9aafdb7",
   "metadata": {},
   "outputs": [],
   "source": []
  },
  {
   "cell_type": "code",
   "execution_count": null,
   "id": "40df15da",
   "metadata": {},
   "outputs": [],
   "source": []
  },
  {
   "cell_type": "code",
   "execution_count": null,
   "id": "c41edc11",
   "metadata": {},
   "outputs": [],
   "source": []
  }
 ],
 "metadata": {
  "kernelspec": {
   "display_name": "Python 3 (ipykernel)",
   "language": "python",
   "name": "python3"
  },
  "language_info": {
   "codemirror_mode": {
    "name": "ipython",
    "version": 3
   },
   "file_extension": ".py",
   "mimetype": "text/x-python",
   "name": "python",
   "nbconvert_exporter": "python",
   "pygments_lexer": "ipython3",
   "version": "3.9.12"
  }
 },
 "nbformat": 4,
 "nbformat_minor": 5
}
